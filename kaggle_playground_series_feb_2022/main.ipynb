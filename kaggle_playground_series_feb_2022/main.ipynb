{
  "cells": [
    {
      "cell_type": "code",
      "execution_count": 34,
      "metadata": {
        "id": "Kiz6FsSL29J7"
      },
      "outputs": [],
      "source": [
        "import numpy as np\n",
        "import seaborn as sns\n",
        "import matplotlib.pyplot as plt\n",
        "import pandas as pd\n",
        "import os\n",
        "import warnings\n",
        "from functools import reduce\n",
        "from typing import List, Dict\n",
        "from sklearn.preprocessing import LabelEncoder\n",
        "from sklearn.model_selection import cross_val_score, GridSearchCV, StratifiedKFold\n",
        "from sklearn.metrics import accuracy_score\n",
        "from xgboost import XGBClassifier\n",
        "from scipy.stats import mode\n",
        "import time\n",
        "from functools import reduce\n",
        "\n",
        "pd.set_option('display.max_rows', None)\n",
        "pd.set_option('display.max_columns', None)\n",
        "pd.set_option('float_format', '{:f}'.format)\n",
        "warnings.filterwarnings(\"ignore\")"
      ]
    },
    {
      "cell_type": "code",
      "execution_count": 40,
      "metadata": {
        "id": "GsPYVYQp2_FG"
      },
      "outputs": [],
      "source": [
        "train_csv = pd.read_csv(os.path.join(os.getcwd(), \"train.csv\"))\n",
        "test_csv = pd.read_csv(os.path.join(os.getcwd(), \"test.csv\"))"
      ]
    },
    {
      "cell_type": "code",
      "execution_count": 42,
      "metadata": {
        "id": "J1JaLVH33ATD"
      },
      "outputs": [],
      "source": [
        "df_train = train_csv.drop([\"row_id\"], axis=1)\n",
        "df_test = test_csv.drop([\"row_id\"], axis=1)\n",
        "\n",
        "isna_sum = reduce(lambda prev, current: prev + current, train_csv.isna().sum().values)\n",
        "assert isna_sum == 0"
      ]
    },
    {
      "cell_type": "code",
      "execution_count": 44,
      "metadata": {
        "colab": {
          "base_uri": "https://localhost:8080/"
        },
        "id": "3vK1Yta83Cev",
        "outputId": "d9f52f1b-fad6-4324-e0a6-6cf3a1ced00f"
      },
      "outputs": [
        {
          "name": "stdout",
          "output_type": "stream",
          "text": [
            "fold: 0, score: 0.858275\n",
            "fold: 1, score: 0.857975\n",
            "fold: 2, score: 0.85875\n",
            "fold: 3, score: 0.8561\n",
            "fold: 4, score: 0.8589\n",
            "mean score: 0.858\n"
          ]
        }
      ],
      "source": [
        "random_state = 1\n",
        "xgb_params = {\n",
        "  'objective': 'multi:softmax',\n",
        "  'eval_metric': 'mlogloss',\n",
        "  'tree_method': 'gpu_hist',\n",
        "  'predictor': 'gpu_predictor',\n",
        "}\n",
        "le = LabelEncoder()\n",
        "\n",
        "def run_model(df_train: pd.DataFrame, df_test: pd.DataFrame, folds: int = 5, random_state: int = 1):\n",
        "  df = df_train.copy(deep=True)\n",
        "  df[\"target\"] = le.fit_transform(df[\"target\"])\n",
        "  X = df.drop([\"target\"], axis=1)\n",
        "  y = df[\"target\"]\n",
        "  scores = []\n",
        "  probabilities = []\n",
        "  predictions = []\n",
        "  feature_cols = [i for i in df.columns if i not in [\"target\"]]\n",
        "  str_kfold = StratifiedKFold(n_splits=folds, shuffle=True, random_state=random_state)\n",
        "  i = 0\n",
        "\n",
        "  for train_index, test_index in str_kfold.split(X, y):\n",
        "    start = time.time()\n",
        "    X_train, X_test = X.iloc[train_index], X.iloc[test_index]\n",
        "    y_train, y_test = y.iloc[train_index], y.iloc[test_index]\n",
        "    model = XGBClassifier(**xgb_params)\n",
        "    model.fit(X_train, y_train)\n",
        "    y_pred = model.predict(X_test)\n",
        "    score = accuracy_score(y_test, y_pred)\n",
        "    scores.append(score)\n",
        "    probabilities.append(model.predict_proba(df_test))\n",
        "    predictions.append(model.predict(df_test))\n",
        "    print(f\"fold: {i}, score: {score}, time: {(start - time.time()):.2f}\")\n",
        "    i += 1\n",
        "    \n",
        "  print(f\"mean score: {np.mean(scores)}\")\n",
        "  return (probabilities, predictions)\n",
        "\n",
        "probabilities, predictions = run_model(df_train, df_test)"
      ]
    },
    {
      "cell_type": "code",
      "execution_count": 46,
      "metadata": {
        "colab": {
          "base_uri": "https://localhost:8080/",
          "height": 17
        },
        "id": "6tyB-zL5-kOW",
        "outputId": "2079f39f-9d34-491b-8fc6-ebbdd2dd0fac"
      },
      "outputs": [
        {
          "data": {
            "application/javascript": "\n    async function download(id, filename, size) {\n      if (!google.colab.kernel.accessAllowed) {\n        return;\n      }\n      const div = document.createElement('div');\n      const label = document.createElement('label');\n      label.textContent = `Downloading \"${filename}\": `;\n      div.appendChild(label);\n      const progress = document.createElement('progress');\n      progress.max = size;\n      div.appendChild(progress);\n      document.body.appendChild(div);\n\n      const buffers = [];\n      let downloaded = 0;\n\n      const channel = await google.colab.kernel.comms.open(id);\n      // Send a message to notify the kernel that we're ready.\n      channel.send({})\n\n      for await (const message of channel.messages) {\n        // Send a message to notify the kernel that we're ready.\n        channel.send({})\n        if (message.buffers) {\n          for (const buffer of message.buffers) {\n            buffers.push(buffer);\n            downloaded += buffer.byteLength;\n            progress.value = downloaded;\n          }\n        }\n      }\n      const blob = new Blob(buffers, {type: 'application/binary'});\n      const a = document.createElement('a');\n      a.href = window.URL.createObjectURL(blob);\n      a.download = filename;\n      div.appendChild(a);\n      a.click();\n      div.remove();\n    }\n  ",
            "text/plain": [
              "<IPython.core.display.Javascript object>"
            ]
          },
          "metadata": {},
          "output_type": "display_data"
        },
        {
          "data": {
            "application/javascript": "download(\"download_20d05384-1825-497f-8cc1-fec5b39c81c7\", \"submission.csv\", 2838170)",
            "text/plain": [
              "<IPython.core.display.Javascript object>"
            ]
          },
          "metadata": {},
          "output_type": "display_data"
        }
      ],
      "source": [
        "sample_submission_csv = pd.read_csv(os.path.join(os.getcwd(), \"drive/MyDrive/kaggle/sample_submission.csv\"))\n",
        "submission = sample_submission_csv.copy()\n",
        "result = le.inverse_transform(mode(np.column_stack(predictions), axis=1)[0].flatten()).tolist()\n",
        "submission.iloc[:, 1] = result\n",
        "submission.to_csv(\"submission.csv\", index=False)"
      ]
    }
  ],
  "metadata": {
    "accelerator": "GPU",
    "colab": {
      "name": "Untitled17.ipynb",
      "provenance": []
    },
    "kernelspec": {
      "display_name": "Python 3",
      "name": "python3"
    },
    "language_info": {
      "name": "python",
      "version": "3.6.9"
    }
  },
  "nbformat": 4,
  "nbformat_minor": 0
}
