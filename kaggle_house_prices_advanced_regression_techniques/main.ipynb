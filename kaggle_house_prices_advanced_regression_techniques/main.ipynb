{
 "cells": [
  {
   "cell_type": "code",
   "execution_count": 78,
   "metadata": {},
   "outputs": [],
   "source": [
    "import numpy as np\n",
    "import pandas as pd\n",
    "import seaborn as sns\n",
    "import matplotlib.pyplot as plt\n",
    "import os\n",
    "\n",
    "from sklearn.model_selection import GridSearchCV, cross_val_score\n",
    "from sklearn.linear_model import LinearRegression, Lasso, Ridge, ElasticNet\n",
    "from sklearn.neighbors import KNeighborsRegressor\n",
    "from sklearn.svm import SVR\n",
    "from sklearn.tree import DecisionTreeRegressor\n",
    "from sklearn.ensemble import RandomForestRegressor\n",
    "from sklearn.impute import KNNImputer\n",
    "from scipy.stats import skew\n",
    "from sklearn.preprocessing import OneHotEncoder\n",
    "from xgboost import XGBRegressor"
   ]
  },
  {
   "cell_type": "code",
   "execution_count": 79,
   "metadata": {},
   "outputs": [
    {
     "name": "stdout",
     "output_type": "stream",
     "text": [
      "skew: 1.883, kurt: 6.536\n"
     ]
    },
    {
     "data": {
      "image/png": "[encoded data removed]",
      "text/plain": [
       "<Figure size 720x72 with 2 Axes>"
      ]
     },
     "metadata": {
      "needs_background": "light"
     },
     "output_type": "display_data"
    },
    {
     "name": "stderr",
     "output_type": "stream",
     "text": [
      "/home/jthissen/.local/lib/python3.6/site-packages/ipykernel_launcher.py:32: SettingWithCopyWarning: \n",
      "A value is trying to be set on a copy of a slice from a DataFrame.\n",
      "Try using .loc[row_indexer,col_indexer] = value instead\n",
      "\n",
      "See the caveats in the documentation: https://pandas.pydata.org/pandas-docs/stable/user_guide/indexing.html#returning-a-view-versus-a-copy\n",
      "/home/jthissen/.local/lib/python3.6/site-packages/pandas/core/indexing.py:1734: SettingWithCopyWarning: \n",
      "A value is trying to be set on a copy of a slice from a DataFrame.\n",
      "Try using .loc[row_indexer,col_indexer] = value instead\n",
      "\n",
      "See the caveats in the documentation: https://pandas.pydata.org/pandas-docs/stable/user_guide/indexing.html#returning-a-view-versus-a-copy\n",
      "  isetter(loc, value[:, i].tolist())\n"
     ]
    }
   ],
   "source": [
    "df_train = pd.read_csv(os.path.join(os.getcwd(), \"train.csv\"))\n",
    "df_test = pd.read_csv(os.path.join(os.getcwd(), \"test.csv\"))\n",
    "y = df_train[\"SalePrice\"]\n",
    "fig = plt.figure()\n",
    "fig.set_figwidth(10)\n",
    "fig.set_figheight(1)\n",
    "fig.add_subplot(1, 2, 1)\n",
    "sns.histplot(y, kde=True, linewidth=0)\n",
    "print(f\"skew: {y.skew():.3f}, kurt: {y.kurt():.3f}\")\n",
    "y = np.log1p(df_train[\"SalePrice\"])\n",
    "fig.add_subplot(1, 2, 2)\n",
    "sns.histplot(y, kde=True, linewidth=0)\n",
    "plt.show()\n",
    "\n",
    "df_train_dropped = df_train.drop([\"SalePrice\", \"Id\"], axis=1)\n",
    "df_test_dropped = df_test.drop([\"Id\"], axis=1)\n",
    "df_combined = pd.concat([df_train_dropped, df_test_dropped]).reset_index(drop=True)\n",
    "\n",
    "count = df_combined.isna().sum().sort_values(ascending=False).values\n",
    "percentage = df_combined.isna().sum().sort_values(ascending=False) / len(df_combined) * 100.0\n",
    "df_percentage = pd.DataFrame({\"count\": count, \"percentage\": percentage})\n",
    "df_percentage[\"percentage\"] = df_percentage[\"percentage\"].apply(lambda i: round(i, 2))\n",
    "df_train_perc_dropped = df_combined.drop(df_percentage[df_percentage[\"percentage\"] >= 10.0].index, axis=1)\n",
    "\n",
    "cols_number_na = df_train_perc_dropped.select_dtypes(include=np.number).isna().sum().sort_values(ascending=False)\n",
    "cols_number_na = cols_number_na[cols_number_na > 0].index.tolist()\n",
    "\n",
    "assert len(cols_number_na) > 0\n",
    "\n",
    "df_train_number = df_train_perc_dropped.select_dtypes(include=np.number)\n",
    "imputer = KNNImputer(n_neighbors=5, weights=\"uniform\", missing_values=np.nan)\n",
    "df_train_number[:] = imputer.fit_transform(df_train_number)\n",
    "df_train_concat = pd.concat([df_train_number, df_train_perc_dropped.select_dtypes(exclude=np.number)], axis=1)\n",
    "\n",
    "summed = df_train_concat.isna().sum().sort_values(ascending=False) > 0\n",
    "\n",
    "for i in summed[summed == True].index.tolist():\n",
    "  df_train_concat[i] = df_train_concat[i].fillna(df_train_concat[i].mode()[0])\n",
    "\n",
    "assert len(list(filter(lambda i: i == True, df_train_concat.isna().any().values.tolist()))) == 0"
   ]
  },
  {
   "cell_type": "code",
   "execution_count": 80,
   "metadata": {},
   "outputs": [],
   "source": [
    "cols_number = df_train_concat.select_dtypes(include=np.number).columns\n",
    "df_skewed = df_train_concat[cols_number].apply(lambda i: skew(i))\n",
    "skewed_cols = df_skewed.loc[df_skewed > 0.5].index.tolist()\n",
    "\n",
    "for i in skewed_cols:\n",
    "  df_train_concat[i] = np.log1p(df_train_concat[i])\n",
    "\n",
    "X_train = df_train_concat.iloc[0:len(y), :]\n",
    "X_test = df_train_concat.iloc[len(y):, :]\n",
    "\n",
    "ohe = OneHotEncoder(handle_unknown=\"ignore\")\n",
    "ohe.fit_transform(X_train)\n",
    "X_train = ohe.transform(X_train)\n",
    "X_test = ohe.transform(X_test)\n",
    "\n",
    "models = [\n",
    "  LinearRegression(), Lasso(), Ridge(), \n",
    "  KNeighborsRegressor(), RandomForestRegressor(), DecisionTreeRegressor(), \n",
    "  SVR(), ElasticNet(), XGBRegressor()\n",
    "]\n",
    "cv_scores = []\n",
    "model_indices = []\n",
    "folds = 5\n",
    "\n",
    "for i in range(len(models)):\n",
    "  cv_score = cross_val_score(models[i], X_train, y, cv=folds)\n",
    "  cv_scores.append(cv_score.mean())\n",
    "  model_indices.append(str(models[i]))\n",
    "\n",
    "df_scores = pd.DataFrame(index=model_indices, data=cv_scores, columns=[\"score_mean\"])\n",
    "df_scores[\"score_mean\"] = df_scores[\"score_mean\"].apply(lambda i: \"%.3f\" % i)"
   ]
  },
  {
   "cell_type": "code",
   "execution_count": 81,
   "metadata": {},
   "outputs": [
    {
     "name": "stdout",
     "output_type": "stream",
     "text": [
      "Estimator: XGBRegressor(base_score=0.5, booster='gbtree', colsample_bylevel=1,\n",
      "             colsample_bynode=1, colsample_bytree=0.7, enable_categorical=False,\n",
      "             gamma=0, gpu_id=-1, importance_type=None,\n",
      "             interaction_constraints='', learning_rate=0.1, max_delta_step=0,\n",
      "             max_depth=3, min_child_weight=1, missing=nan,\n",
      "             monotone_constraints='()', n_estimators=1000, n_jobs=8,\n",
      "             num_parallel_tree=1, predictor='auto', random_state=0, reg_alpha=0,\n",
      "             reg_lambda=1, scale_pos_weight=1, subsample=1, tree_method='exact',\n",
      "             validate_parameters=1, verbosity=None), Score: 0.8657559935741732\n"
     ]
    }
   ],
   "source": [
    "scores_top_3 = df_scores.sort_values(by=[\"score_mean\"], ascending=False).iloc[0:3]\n",
    "models_top_3 = [Ridge(), RandomForestRegressor(), XGBRegressor()]\n",
    "hyper_params = {\n",
    "  \"Ridge()\": {\n",
    "    \"alpha\": [0.1, 0.5, 1.0, 2.0, 4.0, 8.0, 16.0, 32.0, 64.0, 128.0],\n",
    "  },\n",
    "  \"RandomForestRegressor()\": {\n",
    "    \"n_estimators\": [10, 100, 200, 400, 800],\n",
    "    \"max_depth\": [1, 2, 4, 8, 16]\n",
    "  },\n",
    "  \"XGBRegressor()\": {\n",
    "    'max_depth': [3,6,10],\n",
    "    'learning_rate': [0.01, 0.05, 0.1],\n",
    "    'n_estimators': [100, 500, 1000],\n",
    "    'colsample_bytree': [0.3, 0.7]\n",
    "  }\n",
    "}\n",
    "\n",
    "for i in [XGBRegressor()]:\n",
    "  gs = GridSearchCV(estimator=i, param_grid=hyper_params.get(str(\"XGBRegressor()\")))\n",
    "  gs.fit(X_train, y)\n",
    "  print(f\"Estimator: {gs.best_estimator_}, Score: {gs.best_score_}\")"
   ]
  },
  {
   "cell_type": "code",
   "execution_count": 82,
   "metadata": {},
   "outputs": [
    {
     "data": {
      "text/plain": [
       "XGBRegressor(base_score=0.5, booster='gbtree', colsample_bylevel=1,\n",
       "             colsample_bynode=1, colsample_bytree=0.3, enable_categorical=False,\n",
       "             gamma=0, gpu_id=-1, importance_type=None,\n",
       "             interaction_constraints='', learning_rate=0.05, max_delta_step=0,\n",
       "             max_depth=3, min_child_weight=1, missing=nan,\n",
       "             monotone_constraints='()', n_estimators=1000, n_jobs=8,\n",
       "             num_parallel_tree=1, predictor='auto', random_state=0, reg_alpha=0,\n",
       "             reg_lambda=1, scale_pos_weight=1, subsample=1, tree_method='exact',\n",
       "             validate_parameters=1, verbosity=None)"
      ]
     },
     "execution_count": 82,
     "metadata": {},
     "output_type": "execute_result"
    }
   ],
   "source": [
    "xgboost = XGBRegressor(base_score=0.5, booster='gbtree', colsample_bylevel=1,\n",
    "             colsample_bynode=1, colsample_bytree=0.3, enable_categorical=False,\n",
    "             gamma=0, gpu_id=-1, importance_type=None,\n",
    "             interaction_constraints='', learning_rate=0.05, max_delta_step=0,\n",
    "             max_depth=3, min_child_weight=1, missing=np.nan,\n",
    "             monotone_constraints='()', n_estimators=1000, n_jobs=8,\n",
    "             num_parallel_tree=1, predictor='auto', random_state=0, reg_alpha=0,\n",
    "             reg_lambda=1, scale_pos_weight=1, subsample=1, tree_method='exact',\n",
    "             validate_parameters=1, verbosity=None)\n",
    "\n",
    "xgboost.fit(X_train, y)"
   ]
  },
  {
   "cell_type": "code",
   "execution_count": 83,
   "metadata": {},
   "outputs": [
    {
     "data": {
      "text/plain": [
       "array([0.88035959, 0.85065594, 0.86226781, 0.86685428, 0.86645435])"
      ]
     },
     "execution_count": 83,
     "metadata": {},
     "output_type": "execute_result"
    }
   ],
   "source": [
    "xgboost.score(X_train, y)\n",
    "cross_val_score(xgboost, X_train, y, cv=folds)"
   ]
  },
  {
   "cell_type": "code",
   "execution_count": 84,
   "metadata": {},
   "outputs": [],
   "source": [
    "\n",
    "submission = pd.read_csv(os.path.join(os.getcwd(), \"sample_submission.csv\"))\n",
    "result = np.floor(np.expm1(xgboost.predict(X_test)))\n",
    "submission.iloc[:, 1] = result\n",
    "submission.to_csv('submission.csv', index=False)\n",
    "\n",
    "# TODO\n",
    "# Remove outliers\n",
    "# Combine features"
   ]
  }
 ],
 "metadata": {
  "interpreter": {
   "hash": "31f2aee4e71d21fbe5cf8b01ff0e069b9275f58929596ceb00d14d90e3e16cd6"
  },
  "kernelspec": {
   "display_name": "Python 3.6.9 64-bit",
   "language": "python",
   "name": "python3"
  },
  "language_info": {
   "codemirror_mode": {
    "name": "ipython",
    "version": 3
   },
   "file_extension": ".py",
   "mimetype": "text/x-python",
   "name": "python",
   "nbconvert_exporter": "python",
   "pygments_lexer": "ipython3",
   "version": "3.6.9"
  },
  "orig_nbformat": 4
 },
 "nbformat": 4,
 "nbformat_minor": 2
}
