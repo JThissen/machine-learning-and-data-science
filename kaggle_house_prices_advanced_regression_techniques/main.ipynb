{
 "cells": [
  {
   "cell_type": "code",
   "execution_count": 28,
   "metadata": {},
   "outputs": [],
   "source": [
    "import numpy as np\n",
    "import pandas as pd\n",
    "import seaborn as sns\n",
    "import matplotlib.pyplot as plt\n",
    "import os\n",
    "import warnings\n",
    "from sklearn.model_selection import GridSearchCV, cross_val_score\n",
    "from sklearn.linear_model import LinearRegression, Lasso, Ridge, ElasticNet\n",
    "from sklearn.neighbors import KNeighborsRegressor\n",
    "from sklearn.svm import SVR\n",
    "from sklearn.tree import DecisionTreeRegressor\n",
    "from sklearn.ensemble import RandomForestRegressor\n",
    "from sklearn.impute import KNNImputer\n",
    "from scipy.stats import skew\n",
    "from sklearn.preprocessing import OneHotEncoder\n",
    "from xgboost import XGBRegressor\n",
    "from sklearn.ensemble import IsolationForest\n",
    "from typing import List, Dict\n",
    "\n",
    "warnings.filterwarnings(\"ignore\")"
   ]
  },
  {
   "cell_type": "code",
   "execution_count": 29,
   "metadata": {},
   "outputs": [
    {
     "name": "stdout",
     "output_type": "stream",
     "text": [
      "skew: 1.883, kurt: 6.536\n"
     ]
    }
   ],
   "source": [
    "PLOT_FIGURES = False\n",
    "\n",
    "df_train = pd.read_csv(os.path.join(os.getcwd(), \"train.csv\"))\n",
    "df_test = pd.read_csv(os.path.join(os.getcwd(), \"test.csv\"))\n",
    "y = df_train[\"SalePrice\"]\n",
    "print(f\"skew: {y.skew():.3f}, kurt: {y.kurt():.3f}\")\n",
    "\n",
    "if PLOT_FIGURES:\n",
    "  fig = plt.figure()\n",
    "  fig.set_figwidth(10)\n",
    "  fig.set_figheight(1)\n",
    "  fig.add_subplot(1, 2, 1)\n",
    "  sns.histplot(y, kde=True, linewidth=0)\n",
    "  y = np.log1p(df_train[\"SalePrice\"])\n",
    "  fig.add_subplot(1, 2, 2)\n",
    "  sns.histplot(y, kde=True, linewidth=0)\n",
    "  plt.show()\n",
    "else:\n",
    "  y = np.log1p(df_train[\"SalePrice\"])\n",
    "\n",
    "df_result = pd.concat([\n",
    "  df_train.drop([\"SalePrice\", \"Id\"], axis=1), \n",
    "  df_test.drop([\"Id\"], axis=1)\n",
    "]).reset_index(drop=True)"
   ]
  },
  {
   "cell_type": "code",
   "execution_count": 30,
   "metadata": {},
   "outputs": [],
   "source": [
    "def drop_na_columns(df: pd.DataFrame) -> pd.DataFrame:\n",
    "  count = df.isna().sum().sort_values(ascending=False).values\n",
    "  percentage = df.isna().sum().sort_values(ascending=False) / len(df) * 100.0\n",
    "  df_percentage = pd.DataFrame({\"count\": count, \"percentage\": percentage})\n",
    "  df_percentage[\"percentage\"] = df_percentage[\"percentage\"].apply(lambda i: round(i, 2))\n",
    "  df_result = df.drop(df_percentage[df_percentage[\"percentage\"] >= 10.0].index, axis=1)\n",
    "  cols_number_na = df_result.select_dtypes(include=np.number).isna().sum().sort_values(ascending=False)\n",
    "  cols_number_na = cols_number_na[cols_number_na > 0].index.tolist()\n",
    "  assert len(cols_number_na) > 0\n",
    "  return df_result\n",
    "\n",
    "df_result = drop_na_columns(df_result)"
   ]
  },
  {
   "cell_type": "code",
   "execution_count": 31,
   "metadata": {},
   "outputs": [],
   "source": [
    "def fill_na(df: pd.DataFrame) -> pd.DataFrame:\n",
    "  df_number = df.select_dtypes(include=np.number)\n",
    "  imputer = KNNImputer(n_neighbors=5, weights=\"uniform\", missing_values=np.nan)\n",
    "  df_number[:] = imputer.fit_transform(df_number)\n",
    "  df_result = pd.concat([df_number, df.select_dtypes(exclude=np.number)], axis=1)\n",
    "  summed = df_result.isna().sum().sort_values(ascending=False) > 0\n",
    "\n",
    "  for i in summed[summed == True].index.tolist():\n",
    "    df_result[i] = df_result[i].fillna(df_result[i].mode()[0])\n",
    "\n",
    "  assert len(list(filter(lambda i: i == True, df_result.isna().any().values.tolist()))) == 0\n",
    "  return df_result\n",
    "df_result = fill_na(df_result)"
   ]
  },
  {
   "cell_type": "code",
   "execution_count": 32,
   "metadata": {},
   "outputs": [],
   "source": [
    "def cap_outliers(df: pd.DataFrame) -> pd.DataFrame:\n",
    "  rng = np.random.RandomState(1)\n",
    "  cols_non_object: List[str] = []\n",
    "\n",
    "  for i in df.columns:\n",
    "    if i not in df.select_dtypes(\"object\").columns.tolist():\n",
    "      cols_non_object.append(i)\n",
    "\n",
    "  for i in cols_non_object:\n",
    "    if PLOT_FIGURES:\n",
    "      fig = plt.figure()\n",
    "      plt.title(f\"{i} - left: before | right: after\")\n",
    "      fig.add_subplot(1, 2, 1)\n",
    "      fig.set_figwidth(10)\n",
    "      fig.set_figheight(3)\n",
    "      sns.scatterplot(x=df[i], y=y)\n",
    "    df_outliers = pd.DataFrame()\n",
    "    df_outliers[i] = df[i]\n",
    "    isof = IsolationForest(max_samples=100, random_state=rng)\n",
    "    isof.fit(df[[i]])\n",
    "    df_outliers[\"is_outlier\"] = isof.predict(df[[i]])\n",
    "    df_outliers[\"anomaly_score\"] = isof.decision_function(df[[i]])\n",
    "    quant_min, quant_max = df[i].quantile([0.2, 0.8])\n",
    "\n",
    "    for j in range(0, len(df_outliers[i])):\n",
    "      if df_outliers[\"is_outlier\"][j] == -1:\n",
    "        if df_outliers[i][j] < quant_min:\n",
    "          df[i][j] = quant_min\n",
    "        elif df_outliers[i][j] > quant_max:\n",
    "          df[i][j] = quant_max\n",
    "\n",
    "    if PLOT_FIGURES:\n",
    "      fig.add_subplot(1, 2, 2)\n",
    "      sns.scatterplot(x=df[i], y=y)\n",
    "      plt.show()\n",
    "\n",
    "  return df\n",
    "\n",
    "df_result = cap_outliers(df_result)"
   ]
  },
  {
   "cell_type": "code",
   "execution_count": 33,
   "metadata": {},
   "outputs": [],
   "source": [
    "def fix_skewness(df: pd.DataFrame) -> pd.DataFrame:\n",
    "  cols_number = df.select_dtypes(include=np.number).columns\n",
    "  df_skewed = df[cols_number].apply(lambda i: skew(i))\n",
    "  skewed_cols = df_skewed.loc[df_skewed > 0.5].index.tolist()\n",
    "  \n",
    "  for i in skewed_cols:\n",
    "    df[i] = np.log1p(df[i])\n",
    "\n",
    "  return df\n",
    "\n",
    "df_result = fix_skewness(df_result)"
   ]
  },
  {
   "cell_type": "code",
   "execution_count": 34,
   "metadata": {},
   "outputs": [
    {
     "data": {
      "text/html": [
       "<div>\n",
       "<style scoped>\n",
       "    .dataframe tbody tr th:only-of-type {\n",
       "        vertical-align: middle;\n",
       "    }\n",
       "\n",
       "    .dataframe tbody tr th {\n",
       "        vertical-align: top;\n",
       "    }\n",
       "\n",
       "    .dataframe thead th {\n",
       "        text-align: right;\n",
       "    }\n",
       "</style>\n",
       "<table border=\"1\" class=\"dataframe\">\n",
       "  <thead>\n",
       "    <tr style=\"text-align: right;\">\n",
       "      <th></th>\n",
       "      <th>score_mean</th>\n",
       "    </tr>\n",
       "  </thead>\n",
       "  <tbody>\n",
       "    <tr>\n",
       "      <th>XGBRegressor(base_score=None, booster=None, colsample_bylevel=None,\\n             colsample_bynode=None, colsample_bytree=None,\\n             enable_categorical=False, gamma=None, gpu_id=None,\\n             importance_type=None, interaction_constraints=None,\\n             learning_rate=None, max_delta_step=None, max_depth=None,\\n             min_child_weight=None, missing=nan, monotone_constraints=None,\\n             n_estimators=100, n_jobs=None, num_parallel_tree=None,\\n             predictor=None, random_state=None, reg_alpha=None, reg_lambda=None,\\n             scale_pos_weight=None, subsample=None, tree_method=None,\\n             validate_parameters=None, verbosity=None)</th>\n",
       "      <td>0.868</td>\n",
       "    </tr>\n",
       "    <tr>\n",
       "      <th>Ridge()</th>\n",
       "      <td>0.860</td>\n",
       "    </tr>\n",
       "    <tr>\n",
       "      <th>RandomForestRegressor()</th>\n",
       "      <td>0.848</td>\n",
       "    </tr>\n",
       "    <tr>\n",
       "      <th>LinearRegression()</th>\n",
       "      <td>0.830</td>\n",
       "    </tr>\n",
       "    <tr>\n",
       "      <th>KNeighborsRegressor()</th>\n",
       "      <td>0.824</td>\n",
       "    </tr>\n",
       "    <tr>\n",
       "      <th>DecisionTreeRegressor()</th>\n",
       "      <td>0.739</td>\n",
       "    </tr>\n",
       "    <tr>\n",
       "      <th>Lasso()</th>\n",
       "      <td>-0.003</td>\n",
       "    </tr>\n",
       "    <tr>\n",
       "      <th>ElasticNet()</th>\n",
       "      <td>-0.003</td>\n",
       "    </tr>\n",
       "  </tbody>\n",
       "</table>\n",
       "</div>"
      ],
      "text/plain": [
       "                                                   score_mean\n",
       "XGBRegressor(base_score=None, booster=None, col...      0.868\n",
       "Ridge()                                                 0.860\n",
       "RandomForestRegressor()                                 0.848\n",
       "LinearRegression()                                      0.830\n",
       "KNeighborsRegressor()                                   0.824\n",
       "DecisionTreeRegressor()                                 0.739\n",
       "Lasso()                                                -0.003\n",
       "ElasticNet()                                           -0.003"
      ]
     },
     "execution_count": 34,
     "metadata": {},
     "output_type": "execute_result"
    }
   ],
   "source": [
    "FOLDS = 5\n",
    "\n",
    "def get_model_scores(X_train: pd.DataFrame, X_test: pd.DataFrame) -> pd.DataFrame:\n",
    "  models = [\n",
    "    LinearRegression(), Lasso(), Ridge(), \n",
    "    KNeighborsRegressor(), RandomForestRegressor(), DecisionTreeRegressor(), \n",
    "    ElasticNet(), XGBRegressor()\n",
    "  ]\n",
    "  cv_scores = []\n",
    "  model_indices = []\n",
    "  \n",
    "  for i in range(len(models)):\n",
    "    cv_score = cross_val_score(models[i], X_train, y, cv=FOLDS)\n",
    "    cv_scores.append(cv_score.mean())\n",
    "    model_indices.append(str(models[i]))\n",
    "  \n",
    "  df = pd.DataFrame(index=model_indices, data=cv_scores, columns=[\"score_mean\"])\n",
    "  df[\"score_mean\"] = df[\"score_mean\"].apply(lambda i: \"%.3f\" % i)\n",
    "  return df\n",
    "\n",
    "X_train = df_result.iloc[0:len(y), :]\n",
    "X_test = df_result.iloc[len(y):, :]\n",
    "ohe = OneHotEncoder(handle_unknown=\"ignore\")\n",
    "ohe.fit_transform(X_train)\n",
    "X_train = ohe.transform(X_train)\n",
    "X_test = ohe.transform(X_test)\n",
    "df_scores = get_model_scores(X_train, X_test)\n",
    "df_scores.sort_values(by=\"score_mean\", ascending=False)"
   ]
  },
  {
   "cell_type": "code",
   "execution_count": 35,
   "metadata": {},
   "outputs": [
    {
     "name": "stdout",
     "output_type": "stream",
     "text": [
      "Estimator: XGBRegressor(base_score=0.5, booster='gbtree', colsample_bylevel=1,\n",
      "             colsample_bynode=1, colsample_bytree=0.3, enable_categorical=False,\n",
      "             gamma=0, gpu_id=-1, importance_type=None,\n",
      "             interaction_constraints='', learning_rate=0.1, max_delta_step=0,\n",
      "             max_depth=3, min_child_weight=1, missing=nan,\n",
      "             monotone_constraints='()', n_estimators=1000, n_jobs=8,\n",
      "             num_parallel_tree=1, predictor='auto', random_state=0, reg_alpha=0,\n",
      "             reg_lambda=1, scale_pos_weight=1, subsample=1, tree_method='exact',\n",
      "             validate_parameters=1, verbosity=None), Score: 0.890343261702464\n"
     ]
    }
   ],
   "source": [
    "hyper_params = {\n",
    "  \"Ridge()\": {\n",
    "    \"alpha\": [0.1, 0.5, 1.0, 2.0, 4.0, 8.0, 16.0, 32.0, 64.0, 128.0],\n",
    "  },\n",
    "  \"RandomForestRegressor()\": {\n",
    "    \"n_estimators\": [10, 100, 200, 400, 800],\n",
    "    \"max_depth\": [1, 2, 4, 8, 16]\n",
    "  },\n",
    "  \"XGBRegressor()\": {\n",
    "    'max_depth': [3,6,10],\n",
    "    'learning_rate': [0.01, 0.05, 0.1],\n",
    "    'n_estimators': [100, 500, 1000],\n",
    "    'colsample_bytree': [0.3, 0.7]\n",
    "  }\n",
    "}\n",
    "\n",
    "gs = GridSearchCV(estimator=XGBRegressor(), param_grid=hyper_params.get(str(\"XGBRegressor()\")))\n",
    "gs.fit(X_train, y)\n",
    "print(f\"Estimator: {gs.best_estimator_}, Score: {gs.best_score_}\")\n",
    "xgboost = gs.best_estimator_.fit(X_train, y)"
   ]
  },
  {
   "cell_type": "code",
   "execution_count": 36,
   "metadata": {},
   "outputs": [
    {
     "data": {
      "text/plain": [
       "array([0.90655132, 0.87274713, 0.89191008, 0.89342617, 0.88708161])"
      ]
     },
     "execution_count": 36,
     "metadata": {},
     "output_type": "execute_result"
    }
   ],
   "source": [
    "xgboost.score(X_train, y)\n",
    "cross_val_score(xgboost, X_train, y, cv=FOLDS)"
   ]
  },
  {
   "cell_type": "code",
   "execution_count": 37,
   "metadata": {},
   "outputs": [],
   "source": [
    "submission = pd.read_csv(os.path.join(os.getcwd(), \"sample_submission.csv\"))\n",
    "result = np.floor(np.expm1(xgboost.predict(X_test)))\n",
    "submission.iloc[:, 1] = result\n",
    "submission.to_csv('submission.csv', index=False)"
   ]
  }
 ],
 "metadata": {
  "interpreter": {
   "hash": "31f2aee4e71d21fbe5cf8b01ff0e069b9275f58929596ceb00d14d90e3e16cd6"
  },
  "kernelspec": {
   "display_name": "Python 3.6.9 64-bit",
   "language": "python",
   "name": "python3"
  },
  "language_info": {
   "codemirror_mode": {
    "name": "ipython",
    "version": 3
   },
   "file_extension": ".py",
   "mimetype": "text/x-python",
   "name": "python",
   "nbconvert_exporter": "python",
   "pygments_lexer": "ipython3",
   "version": "3.6.9"
  },
  "orig_nbformat": 4
 },
 "nbformat": 4,
 "nbformat_minor": 2
}
